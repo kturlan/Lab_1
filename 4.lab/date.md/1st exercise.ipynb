{
 "cells": [
  {
   "cell_type": "code",
   "execution_count": 1,
   "id": "119e0b15-4263-4da6-8899-2a6aaa1e98a1",
   "metadata": {},
   "outputs": [
    {
     "name": "stdout",
     "output_type": "stream",
     "text": [
      "Current time:  2025-02-18\n",
      "Substact five days :  2025-02-13\n"
     ]
    }
   ],
   "source": [
    "from datetime import date,  timedelta, datetime\n",
    "current = date.today() - timedelta(5)\n",
    "print(\"Current time: \", date.today())\n",
    "print(\"Substact five days : \",current)"
   ]
  }
 ],
 "metadata": {
  "kernelspec": {
   "display_name": "Python [conda env:base] *",
   "language": "python",
   "name": "conda-base-py"
  },
  "language_info": {
   "codemirror_mode": {
    "name": "ipython",
    "version": 3
   },
   "file_extension": ".py",
   "mimetype": "text/x-python",
   "name": "python",
   "nbconvert_exporter": "python",
   "pygments_lexer": "ipython3",
   "version": "3.12.7"
  }
 },
 "nbformat": 4,
 "nbformat_minor": 5
}

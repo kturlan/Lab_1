{
 "cells": [
  {
   "cell_type": "code",
   "execution_count": null,
   "id": "a700d422-e6a1-47e8-a43b-f51ca357cf14",
   "metadata": {},
   "outputs": [],
   "source": [
    "def writesome(list_of_elements):\n",
    "    with open(\"sometext.txt\", '+a') as f:\n",
    "        text = \"\\n\"\n",
    "        for i in list_of_elements:\n",
    "            text+=str(i)+' '\n",
    "        f.write(text)\n",
    "        f.close()\n",
    "    \n",
    " \n",
    "\n",
    "writesome([12345, 56789, 90987654, \"dfghjkl\",\"efrgf\",34,34])"
   ]
  }
 ],
 "metadata": {
  "kernelspec": {
   "display_name": "Python [conda env:base] *",
   "language": "python",
   "name": "conda-base-py"
  },
  "language_info": {
   "codemirror_mode": {
    "name": "ipython",
    "version": 3
   },
   "file_extension": ".py",
   "mimetype": "text/x-python",
   "name": "python",
   "nbconvert_exporter": "python",
   "pygments_lexer": "ipython3",
   "version": "3.12.7"
  }
 },
 "nbformat": 4,
 "nbformat_minor": 5
}

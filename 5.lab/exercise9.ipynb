{
 "cells": [
  {
   "cell_type": "code",
   "execution_count": 1,
   "id": "65473405-7a1d-401c-bd2e-06b1ec439c01",
   "metadata": {},
   "outputs": [
    {
     "name": "stdout",
     "output_type": "stream",
     "text": [
      "['Python', 'Is', 'Awesome']\n"
     ]
    }
   ],
   "source": [
    "import re\n",
    "with open(\"row-8.txt\") as f:\n",
    "    data=f.read()\n",
    "print(re.findall(r\"[A-Z][a-z]*\", data))"
   ]
  },
  {
   "cell_type": "code",
   "execution_count": null,
   "id": "3940abe3-5283-4258-936b-703d78116293",
   "metadata": {},
   "outputs": [],
   "source": []
  }
 ],
 "metadata": {
  "kernelspec": {
   "display_name": "Python [conda env:base] *",
   "language": "python",
   "name": "conda-base-py"
  },
  "language_info": {
   "codemirror_mode": {
    "name": "ipython",
    "version": 3
   },
   "file_extension": ".py",
   "mimetype": "text/x-python",
   "name": "python",
   "nbconvert_exporter": "python",
   "pygments_lexer": "ipython3",
   "version": "3.12.7"
  }
 },
 "nbformat": 4,
 "nbformat_minor": 5
}

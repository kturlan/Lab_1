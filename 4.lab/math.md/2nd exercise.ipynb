{
 "cells": [
  {
   "cell_type": "code",
   "execution_count": 3,
   "id": "48819148-a3fb-4d38-bc0b-7a28afbe3aa8",
   "metadata": {},
   "outputs": [
    {
     "name": "stdin",
     "output_type": "stream",
     "text": [
      "Hight: 56\n",
      "Base,first value: 45\n",
      "Base,second value: 34\n"
     ]
    },
    {
     "name": "stdout",
     "output_type": "stream",
     "text": [
      "Trapazoide area: 2212.0\n"
     ]
    }
   ],
   "source": [
    "import math\n",
    "h=float(input(\"Hight:\"))\n",
    "a=float(input(\"Base,first value:\"))\n",
    "b=float(input(\"Base,second value:\"))\n",
    "print(\"Trapazoide area:\",(a+b)*0.5*h)"
   ]
  }
 ],
 "metadata": {
  "kernelspec": {
   "display_name": "Python [conda env:base] *",
   "language": "python",
   "name": "conda-base-py"
  },
  "language_info": {
   "codemirror_mode": {
    "name": "ipython",
    "version": 3
   },
   "file_extension": ".py",
   "mimetype": "text/x-python",
   "name": "python",
   "nbconvert_exporter": "python",
   "pygments_lexer": "ipython3",
   "version": "3.12.7"
  }
 },
 "nbformat": 4,
 "nbformat_minor": 5
}

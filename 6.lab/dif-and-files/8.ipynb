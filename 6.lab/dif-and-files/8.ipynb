{
 "cells": [
  {
   "cell_type": "code",
   "execution_count": null,
   "id": "77f30eaa-093e-4728-914d-7231f9895905",
   "metadata": {},
   "outputs": [],
   "source": [
    "import os\n",
    "def delete_file(file_path):\n",
    "    if os.path.exists(file_path):\n",
    "        if os.access(file_path,os.W_OK):\n",
    "            try:\n",
    "                os.remove(file_path)\n",
    "                print(f\"file {file_path} delete\") \n",
    "            except Exception as e:\n",
    "                print(\"Error\")\n",
    "                \n",
    "                \n",
    "        else:\n",
    "            print(\"You do not have write access\")\n",
    "    else:\n",
    "        print(f\"File '{file_path}' does not exist.\")\n",
    "            \n",
    "        \n",
    "\n",
    "\n",
    "path_delete=str(input(\"path_delere_file:\"))\n",
    "\n",
    "delete_file(path_delete)"
   ]
  }
 ],
 "metadata": {
  "kernelspec": {
   "display_name": "Python [conda env:base] *",
   "language": "python",
   "name": "conda-base-py"
  },
  "language_info": {
   "codemirror_mode": {
    "name": "ipython",
    "version": 3
   },
   "file_extension": ".py",
   "mimetype": "text/x-python",
   "name": "python",
   "nbconvert_exporter": "python",
   "pygments_lexer": "ipython3",
   "version": "3.12.7"
  }
 },
 "nbformat": 4,
 "nbformat_minor": 5
}

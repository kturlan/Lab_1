{
 "cells": [
  {
   "cell_type": "code",
   "execution_count": null,
   "id": "5a98b219-e1da-4700-8f5e-fde86606c9c3",
   "metadata": {},
   "outputs": [],
   "source": [
    "def copier():\n",
    "    string = str(input(\"Enter the name of file: \"))\n",
    "    with open(string) as file:\n",
    "        data = file.read()\n",
    "    file.close()\n",
    "    copy_path = \"\"\n",
    "    for i in range(len(string)):\n",
    "        if string[i]=='.':\n",
    "            copy_path+='_1'\n",
    "        copy_path+=string[i]\n",
    "    with open(copy_path, \"+w\") as file_copy:\n",
    "        file_copy.write(data)\n",
    "    file.close()\n",
    "    \n",
    "    return 0\n",
    "\n",
    "copier()"
   ]
  },
  {
   "cell_type": "code",
   "execution_count": null,
   "id": "12ee14df-709f-4756-9979-69249495503c",
   "metadata": {},
   "outputs": [],
   "source": []
  }
 ],
 "metadata": {
  "kernelspec": {
   "display_name": "Python [conda env:base] *",
   "language": "python",
   "name": "conda-base-py"
  },
  "language_info": {
   "codemirror_mode": {
    "name": "ipython",
    "version": 3
   },
   "file_extension": ".py",
   "mimetype": "text/x-python",
   "name": "python",
   "nbconvert_exporter": "python",
   "pygments_lexer": "ipython3",
   "version": "3.12.7"
  }
 },
 "nbformat": 4,
 "nbformat_minor": 5
}

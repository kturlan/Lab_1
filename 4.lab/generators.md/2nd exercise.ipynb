{
 "cells": [
  {
   "cell_type": "code",
   "execution_count": 3,
   "id": "3d9cfda1-3dce-46a7-ae9d-fe70c05c875e",
   "metadata": {},
   "outputs": [
    {
     "name": "stdin",
     "output_type": "stream",
     "text": [
      "n: 6\n"
     ]
    },
    {
     "name": "stdout",
     "output_type": "stream",
     "text": [
      "[0, 2, 4]\n"
     ]
    }
   ],
   "source": [
    "def evens(n):\n",
    "    result=[]\n",
    "    for i in range(n):\n",
    "        if i%2==0:\n",
    "            result.append(i)\n",
    "    return result\n",
    "\n",
    "n=int(input(\"n:\"))\n",
    "k=evens(n)\n",
    "print(k)"
   ]
  }
 ],
 "metadata": {
  "kernelspec": {
   "display_name": "Python [conda env:base] *",
   "language": "python",
   "name": "conda-base-py"
  },
  "language_info": {
   "codemirror_mode": {
    "name": "ipython",
    "version": 3
   },
   "file_extension": ".py",
   "mimetype": "text/x-python",
   "name": "python",
   "nbconvert_exporter": "python",
   "pygments_lexer": "ipython3",
   "version": "3.12.7"
  }
 },
 "nbformat": 4,
 "nbformat_minor": 5
}

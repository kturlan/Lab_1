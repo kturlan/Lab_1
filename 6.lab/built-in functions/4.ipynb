{
 "cells": [
  {
   "cell_type": "code",
   "execution_count": 1,
   "id": "d9c5def1-46d5-4e13-ad92-297bd92700b4",
   "metadata": {},
   "outputs": [
    {
     "name": "stdin",
     "output_type": "stream",
     "text": [
      "Enter  miliseconds: 64\n",
      "Enter 2nd miliseconds: 16\n"
     ]
    },
    {
     "name": "stdout",
     "output_type": "stream",
     "text": [
      "Square root of 64 after 16 miliseconds is 8.0\n"
     ]
    }
   ],
   "source": [
    "import math\n",
    "import time\n",
    "\n",
    "time_miliseconds=int(input(\"Enter  miliseconds:\"))\n",
    "time2_miliseconds=int(input(\"Enter 2nd miliseconds:\"))\n",
    "\n",
    "print(f\"Square root of {time_miliseconds} after {time2_miliseconds} miliseconds is {math.sqrt(time_miliseconds)}\")"
   ]
  },
  {
   "cell_type": "code",
   "execution_count": null,
   "id": "54f7d0b1-35f9-449a-bf94-cd631bfd5589",
   "metadata": {},
   "outputs": [],
   "source": []
  }
 ],
 "metadata": {
  "kernelspec": {
   "display_name": "Python [conda env:base] *",
   "language": "python",
   "name": "conda-base-py"
  },
  "language_info": {
   "codemirror_mode": {
    "name": "ipython",
    "version": 3
   },
   "file_extension": ".py",
   "mimetype": "text/x-python",
   "name": "python",
   "nbconvert_exporter": "python",
   "pygments_lexer": "ipython3",
   "version": "3.12.7"
  }
 },
 "nbformat": 4,
 "nbformat_minor": 5
}

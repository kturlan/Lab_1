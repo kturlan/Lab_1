{
 "cells": [
  {
   "cell_type": "code",
   "execution_count": 1,
   "id": "f79a08a8-5eb7-4c05-9816-9ba00e7e45df",
   "metadata": {},
   "outputs": [
    {
     "name": "stdout",
     "output_type": "stream",
     "text": [
      "abbbc:::a:::abb::ab::bababa\n",
      "\n",
      "ab_aabababbaba::ab__adddb:ad:d:ssajmsam:sm:asm:ams:masmams:ams:msmsa_:a_a\n",
      "\n",
      "basbs____jdfe\n",
      "hgedgwg_Ahedb\n",
      "ab_aabababbabaABcdcbdb\n",
      "ABCDEFGHabcdedfgh\n",
      "BCAajajjajaaA\n",
      "abbb:\n",
      "abbccbcbc:\n",
      "aaabcbcbcabb:\n",
      "aabb\n",
      "AlmatyILoveYou\n",
      "b\n"
     ]
    }
   ],
   "source": [
    "import re \n",
    "\n",
    "\n",
    "with open(\"row-1.txt\") as f:\n",
    "    data = f.read()\n",
    "\n",
    "\n",
    "matches=re.sub(r\"[., ]\",':',data)\n",
    "print(matches)"
   ]
  },
  {
   "cell_type": "code",
   "execution_count": null,
   "id": "2d79e27b-61d4-465e-abc9-8b773e24fe33",
   "metadata": {},
   "outputs": [],
   "source": []
  }
 ],
 "metadata": {
  "kernelspec": {
   "display_name": "Python [conda env:base] *",
   "language": "python",
   "name": "conda-base-py"
  },
  "language_info": {
   "codemirror_mode": {
    "name": "ipython",
    "version": 3
   },
   "file_extension": ".py",
   "mimetype": "text/x-python",
   "name": "python",
   "nbconvert_exporter": "python",
   "pygments_lexer": "ipython3",
   "version": "3.12.7"
  }
 },
 "nbformat": 4,
 "nbformat_minor": 5
}

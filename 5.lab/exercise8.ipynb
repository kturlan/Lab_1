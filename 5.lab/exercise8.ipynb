{
 "cells": [
  {
   "cell_type": "code",
   "execution_count": 8,
   "id": "ca5a3022-bd99-4899-af9a-5b23b1baf4c5",
   "metadata": {},
   "outputs": [
    {
     "name": "stdout",
     "output_type": "stream",
     "text": [
      "['Python', 'Is', 'Awesome']\n"
     ]
    }
   ],
   "source": [
    "import re \n",
    "\n",
    "\n",
    "with open(\"row-8.txt\") as f:\n",
    "    data = f.read()\n",
    "    \n",
    "\n",
    "print(re.findall(r\"[A-Z][^A-Z]*\", data))"
   ]
  },
  {
   "cell_type": "code",
   "execution_count": null,
   "id": "fc3ee1d2-4e4e-4a55-80e4-ab43b4ce6c93",
   "metadata": {},
   "outputs": [],
   "source": []
  }
 ],
 "metadata": {
  "kernelspec": {
   "display_name": "Python [conda env:base] *",
   "language": "python",
   "name": "conda-base-py"
  },
  "language_info": {
   "codemirror_mode": {
    "name": "ipython",
    "version": 3
   },
   "file_extension": ".py",
   "mimetype": "text/x-python",
   "name": "python",
   "nbconvert_exporter": "python",
   "pygments_lexer": "ipython3",
   "version": "3.12.7"
  }
 },
 "nbformat": 4,
 "nbformat_minor": 5
}

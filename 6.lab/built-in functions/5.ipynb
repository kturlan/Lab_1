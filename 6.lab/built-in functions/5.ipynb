{
 "cells": [
  {
   "cell_type": "code",
   "execution_count": null,
   "id": "92163839-ac6f-45d8-b1c5-3abcbe142a81",
   "metadata": {},
   "outputs": [],
   "source": [
    "size_mylist=input(\"Enter  mylist:\")\n",
    "mylist=list(map(int,size_mylist.split()))\n",
    "print(all([True, 1, mylist])) "
   ]
  },
  {
   "cell_type": "code",
   "execution_count": null,
   "id": "fa085f1f-e978-4cb1-baba-23070f48b33a",
   "metadata": {},
   "outputs": [],
   "source": []
  }
 ],
 "metadata": {
  "kernelspec": {
   "display_name": "Python [conda env:base] *",
   "language": "python",
   "name": "conda-base-py"
  },
  "language_info": {
   "codemirror_mode": {
    "name": "ipython",
    "version": 3
   },
   "file_extension": ".py",
   "mimetype": "text/x-python",
   "name": "python",
   "nbconvert_exporter": "python",
   "pygments_lexer": "ipython3",
   "version": "3.12.7"
  }
 },
 "nbformat": 4,
 "nbformat_minor": 5
}

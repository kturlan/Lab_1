{
 "cells": [
  {
   "cell_type": "code",
   "execution_count": 1,
   "id": "e51b6e46-c528-4f3b-9e28-b1d49ad3b2d2",
   "metadata": {},
   "outputs": [
    {
     "name": "stdin",
     "output_type": "stream",
     "text": [
      "enter sentence: Python is Awesome\n"
     ]
    },
    {
     "name": "stdout",
     "output_type": "stream",
     "text": [
      "2\n",
      "15\n"
     ]
    }
   ],
   "source": [
    "def count_letters(letter):\n",
    "    upper=0\n",
    "    lower=0\n",
    "    for i in letter:\n",
    "        if i>=\"A\" and i<=\"Z\":\n",
    "            upper+=1\n",
    "        else:\n",
    "            lower+=1\n",
    "    print(upper)\n",
    "    print(lower)\n",
    "\n",
    "sentence = str(input(\"enter sentence:\"))\n",
    "count_letters(sentence)"
   ]
  },
  {
   "cell_type": "code",
   "execution_count": 7,
   "id": "be370de4-22fd-410f-bd05-5eb5a50c73af",
   "metadata": {},
   "outputs": [
    {
     "name": "stdin",
     "output_type": "stream",
     "text": [
      " ltltlL\n"
     ]
    },
    {
     "name": "stdout",
     "output_type": "stream",
     "text": [
      "1\n",
      "5\n"
     ]
    }
   ],
   "source": [
    "def count_case(s):\n",
    "    upper = sum(map(str.isupper, s))\n",
    "    lower = sum(map(str.islower, s))\n",
    "    print(upper)\n",
    "    print(lower)\n",
    "\n",
    "text = input()\n",
    "count_case(text)"
   ]
  }
 ],
 "metadata": {
  "kernelspec": {
   "display_name": "Python [conda env:base] *",
   "language": "python",
   "name": "conda-base-py"
  },
  "language_info": {
   "codemirror_mode": {
    "name": "ipython",
    "version": 3
   },
   "file_extension": ".py",
   "mimetype": "text/x-python",
   "name": "python",
   "nbconvert_exporter": "python",
   "pygments_lexer": "ipython3",
   "version": "3.12.7"
  }
 },
 "nbformat": 4,
 "nbformat_minor": 5
}

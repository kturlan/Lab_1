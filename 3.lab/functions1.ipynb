{
 "cells": [
  {
   "cell_type": "code",
   "execution_count": 1,
   "id": "bcc8c16d-8b83-48d7-8b15-f1785c3799ef",
   "metadata": {},
   "outputs": [
    {
     "name": "stdout",
     "output_type": "stream",
     "text": [
      "100 grams is equal to 2834.9523099999997 ounces\n"
     ]
    }
   ],
   "source": [
    "def grams_to_ounces(grams):\n",
    "    return 28.3495231 * grams\n",
    "\n",
    "grams = 100  \n",
    "ounces = grams_to_ounces(grams)  \n",
    "print(f\"{grams} grams is equal to {ounces} ounces\")"
   ]
  },
  {
   "cell_type": "code",
   "execution_count": 5,
   "id": "4c46589c-377b-412f-834e-70681cb83ebe",
   "metadata": {},
   "outputs": [
    {
     "name": "stdin",
     "output_type": "stream",
     "text": [
      "Enter temperature in Fahrenheit:  100\n"
     ]
    },
    {
     "name": "stdout",
     "output_type": "stream",
     "text": [
      "Equivalent temperature in Celsius: 37.78\n"
     ]
    }
   ],
   "source": [
    "def fahrenheit_to_celsius(f):\n",
    "    return (5 / 9) * (f - 32)\n",
    "\n",
    "F = float(input(\"Enter temperature in Fahrenheit: \"))\n",
    "C = fahrenheit_to_celsius(F)\n",
    "print(f\"Equivalent temperature in Celsius: {C:.2f}\")"
   ]
  },
  {
   "cell_type": "code",
   "execution_count": 7,
   "id": "d5ee9f34-41c1-4d4f-955f-8b4769ad7aef",
   "metadata": {},
   "outputs": [
    {
     "name": "stdout",
     "output_type": "stream",
     "text": [
      "(23, 12)\n"
     ]
    }
   ],
   "source": [
    "def solve(numheads, numlegs):\n",
    "    for chickens in range(numheads + 1):\n",
    "        rabbits = numheads - chickens\n",
    "        if (chickens * 2 + rabbits * 4) == numlegs:\n",
    "            return chickens, rabbits\n",
    "    return \"No solution\"\n",
    "\n",
    "numheads = 35\n",
    "numlegs = 94\n",
    "print(solve(numheads, numlegs))"
   ]
  },
  {
   "cell_type": "code",
   "execution_count": 11,
   "id": "5fc5c3cf-cf1e-4cb0-84b3-2bdce499268e",
   "metadata": {},
   "outputs": [
    {
     "name": "stdin",
     "output_type": "stream",
     "text": [
      " 5 6 7 3 5 6 7\n"
     ]
    },
    {
     "name": "stdout",
     "output_type": "stream",
     "text": [
      "[5, 7, 3, 5, 7]\n"
     ]
    }
   ],
   "source": [
    "def is_prime(n):\n",
    "    if n < 2:\n",
    "        return False\n",
    "    for i in range(2, int(n ** 0.5) + 1):\n",
    "        if n % i == 0:\n",
    "            return False\n",
    "    return True\n",
    "\n",
    "def filter_prime(numbers):\n",
    "    return [n for n in numbers if is_prime(n)]\n",
    "\n",
    "numbers = list(map(int, input().split()))\n",
    "print(filter_prime(numbers))"
   ]
  },
  {
   "cell_type": "code",
   "execution_count": 18,
   "id": "3fb1bf44-c552-4c09-a614-701ad3130eb7",
   "metadata": {},
   "outputs": [
    {
     "name": "stdin",
     "output_type": "stream",
     "text": [
      "Enter a string:  git\n"
     ]
    },
    {
     "name": "stdout",
     "output_type": "stream",
     "text": [
      "git\n",
      "gti\n",
      "igt\n",
      "itg\n",
      "tgi\n",
      "tig\n"
     ]
    }
   ],
   "source": [
    "def permute(s, prefix=\"\"):\n",
    "    if len(s) == 0:\n",
    "        print(prefix)\n",
    "    else:\n",
    "        for i in range(len(s)):\n",
    "            permute(s[:i] + s[i+1:], prefix + s[i])\n",
    "\n",
    "s = input(\"Enter a string: \")\n",
    "permute(s)"
   ]
  },
  {
   "cell_type": "code",
   "execution_count": 20,
   "id": "0f872d6f-8558-4544-820a-d75cd6c8eeae",
   "metadata": {},
   "outputs": [
    {
     "name": "stdin",
     "output_type": "stream",
     "text": [
      "Enter a sentence:  python is awesome\n"
     ]
    },
    {
     "name": "stdout",
     "output_type": "stream",
     "text": [
      "awesome is python\n"
     ]
    }
   ],
   "source": [
    "def reverse_words(sentence):\n",
    "    words = sentence.split()\n",
    "    return ' '.join(words[::-1])\n",
    "\n",
    "s = input(\"Enter a sentence: \")\n",
    "print(reverse_words(s))"
   ]
  },
  {
   "cell_type": "code",
   "execution_count": 26,
   "id": "50b02adc-8145-4235-832b-bd7fc34bb4c8",
   "metadata": {},
   "outputs": [
    {
     "name": "stdout",
     "output_type": "stream",
     "text": [
      "True\n",
      "False\n",
      "False\n"
     ]
    }
   ],
   "source": [
    "def has_33(nums):\n",
    "    for i in range(len(nums) - 1):\n",
    "        if nums[i] == 3 and nums[i + 1] == 3:\n",
    "            return True\n",
    "    return False\n",
    "\n",
    "print(has_33([1, 3, 3]))  \n",
    "print(has_33([1, 3, 1, 3]))  \n",
    "print(has_33([3, 1, 3]))  "
   ]
  },
  {
   "cell_type": "code",
   "execution_count": 24,
   "id": "749d5fb1-92b5-428e-b489-c2d362e841a6",
   "metadata": {},
   "outputs": [
    {
     "name": "stdout",
     "output_type": "stream",
     "text": [
      "True\n",
      "True\n",
      "False\n"
     ]
    }
   ],
   "source": [
    "def spy_game(nums):\n",
    "    code = [0, 0, 7]\n",
    "    idx = 0\n",
    "    for num in nums:\n",
    "        if num == code[idx]:\n",
    "            idx += 1\n",
    "        if idx == 3:\n",
    "            return True\n",
    "    return False\n",
    "\n",
    "print(spy_game([1, 2, 4, 0, 0, 7, 5]))  \n",
    "print(spy_game([1, 0, 2, 4, 0, 5, 7])) \n",
    "print(spy_game([1, 7, 2, 0, 4, 5, 0]))  "
   ]
  },
  {
   "cell_type": "code",
   "execution_count": 28,
   "id": "190005d6-58d9-43ce-8a06-3e095174faf8",
   "metadata": {},
   "outputs": [
    {
     "name": "stdin",
     "output_type": "stream",
     "text": [
      "Enter the radius of the sphere:  24\n"
     ]
    },
    {
     "name": "stdout",
     "output_type": "stream",
     "text": [
      "The volume of the sphere is: 57905.78687999999\n"
     ]
    }
   ],
   "source": [
    "def sphere_volume(radius):\n",
    "    pi = 3.14159\n",
    "    return (4/3) * pi * (radius ** 3)\n",
    "\n",
    "radius = float(input(\"Enter the radius of the sphere: \"))\n",
    "print(\"The volume of the sphere is:\", sphere_volume(radius))"
   ]
  },
  {
   "cell_type": "code",
   "execution_count": 30,
   "id": "387910d9-b06a-40ba-814c-aee8d4da4106",
   "metadata": {},
   "outputs": [
    {
     "name": "stdout",
     "output_type": "stream",
     "text": [
      "[1, 2, 3, 4, 5]\n"
     ]
    }
   ],
   "source": [
    "def unique_elements(lst):\n",
    "    unique_lst = []\n",
    "    for item in lst:\n",
    "        if item not in unique_lst:\n",
    "            unique_lst.append(item)\n",
    "    return unique_lst\n",
    "\n",
    "lst = [1, 2, 2, 3, 4, 4, 5]\n",
    "print(unique_elements(lst))"
   ]
  },
  {
   "cell_type": "code",
   "execution_count": 44,
   "id": "ce758001-0035-4bad-9e50-54a3443fd5df",
   "metadata": {},
   "outputs": [],
   "source": [
    "def is_palindrome(s):\n",
    "    s = ''.join(e for e in s if e.isalnum()).lower()\n",
    "    left, right = 0, len(s) - 1\n",
    "    while left < right:\n",
    "        if s[left] != s[right]:\n",
    "            return False\n",
    "        left += 1\n",
    "        right -= 1\n",
    "    return True"
   ]
  },
  {
   "cell_type": "code",
   "execution_count": 1,
   "id": "cabaaf5b-97cd-4eb3-a269-4702e942c00f",
   "metadata": {},
   "outputs": [
    {
     "name": "stdin",
     "output_type": "stream",
     "text": [
      "numbers: 4 9 7\n"
     ]
    },
    {
     "name": "stdout",
     "output_type": "stream",
     "text": [
      "****\n",
      "*********\n",
      "*******\n"
     ]
    }
   ],
   "source": [
    "def histogram(arr):\n",
    "    for i in arr:\n",
    "        print(\"*\"*i)\n",
    "n=input(\"numbers:\")\n",
    "mylist=list(map(int,n.split()))\n",
    "histogram(mylist)"
   ]
  },
  {
   "cell_type": "code",
   "execution_count": 1,
   "id": "1f5a84f3-9f3b-4bbe-a174-56536c3f809e",
   "metadata": {},
   "outputs": [
    {
     "name": "stdout",
     "output_type": "stream",
     "text": [
      "Hello! What is your name?\n"
     ]
    },
    {
     "name": "stdin",
     "output_type": "stream",
     "text": [
      "name: mursalim\n"
     ]
    },
    {
     "name": "stdout",
     "output_type": "stream",
     "text": [
      "Well, mursalim, I am thinking of a number between 1 and 20.\n"
     ]
    },
    {
     "name": "stdin",
     "output_type": "stream",
     "text": [
      "Take a guess:  4\n"
     ]
    },
    {
     "name": "stdout",
     "output_type": "stream",
     "text": [
      "Your guess is too low\n"
     ]
    },
    {
     "name": "stdin",
     "output_type": "stream",
     "text": [
      "Take a guess:  5\n"
     ]
    },
    {
     "name": "stdout",
     "output_type": "stream",
     "text": [
      "Your guess is too low\n"
     ]
    },
    {
     "name": "stdin",
     "output_type": "stream",
     "text": [
      "Take a guess:  15\n"
     ]
    },
    {
     "name": "stdout",
     "output_type": "stream",
     "text": [
      "Your guess is too high.\n"
     ]
    },
    {
     "name": "stdin",
     "output_type": "stream",
     "text": [
      "Take a guess:  13\n"
     ]
    },
    {
     "name": "stdout",
     "output_type": "stream",
     "text": [
      "Your guess is too high.\n"
     ]
    },
    {
     "name": "stdin",
     "output_type": "stream",
     "text": [
      "Take a guess:  8\n"
     ]
    },
    {
     "name": "stdout",
     "output_type": "stream",
     "text": [
      "Your guess is too high.\n"
     ]
    },
    {
     "name": "stdin",
     "output_type": "stream",
     "text": [
      "Take a guess:  6\n"
     ]
    },
    {
     "name": "stdout",
     "output_type": "stream",
     "text": [
      "Good job, mursalim! You guessed my number in 6 guesses!\n"
     ]
    }
   ],
   "source": [
    "from random import randint\n",
    "\n",
    "def guessanumber():\n",
    "    print(\"Hello! What is your name?\")\n",
    "    name = input(\"name:\")\n",
    "    print(f\"Well, {name}, I am thinking of a number between 1 and 20.\")\n",
    "    number = randint(1,20)\n",
    "    sum = 0\n",
    "    run = True\n",
    "    while run:\n",
    "        guess = int(input(\"Take a guess: \"))\n",
    "        sum+=1\n",
    "        if guess == number:\n",
    "            run = False\n",
    "            print(f\"Good job, {name}! You guessed my number in {sum} guesses!\")\n",
    "            break\n",
    "        if guess>number:\n",
    "            print(\"Your guess is too high.\")\n",
    "        else:\n",
    "            print(\"Your guess is too low\")\n",
    "\n",
    "\n",
    "guessanumber()"
   ]
  },
  {
   "cell_type": "code",
   "execution_count": 3,
   "id": "f244df55-4ee8-4689-bc49-1025b8ef357d",
   "metadata": {},
   "outputs": [
    {
     "name": "stdout",
     "output_type": "stream",
     "text": [
      "Hello! What is your name?\n"
     ]
    },
    {
     "name": "stdin",
     "output_type": "stream",
     "text": [
      " mursalim\n"
     ]
    },
    {
     "name": "stdout",
     "output_type": "stream",
     "text": [
      "Well, mursalim, I am thinking of a number between 1 and 20.\n"
     ]
    },
    {
     "name": "stdin",
     "output_type": "stream",
     "text": [
      "Take a guess:  3\n"
     ]
    },
    {
     "name": "stdout",
     "output_type": "stream",
     "text": [
      "Your guess is too low\n"
     ]
    },
    {
     "name": "stdin",
     "output_type": "stream",
     "text": [
      "Take a guess:  6\n"
     ]
    },
    {
     "name": "stdout",
     "output_type": "stream",
     "text": [
      "Good job, mursalim! You guessed my number in 2 guesses!\n",
      "[9, 6, 5, 7, 7, 3, 8, 4, 9, 5]\n"
     ]
    }
   ],
   "source": [
    "from random import randint\n",
    "\n",
    "def guessanumber():\n",
    "    print(\"Hello! What is your name?\")\n",
    "    name = input()\n",
    "    print(f\"Well, {name}, I am thinking of a number between 1 and 20.\")\n",
    "    number = randint(1,20)\n",
    "    sum = 0\n",
    "    run = True\n",
    "    while run:\n",
    "        guess = int(input(\"Take a guess: \"))\n",
    "        sum+=1\n",
    "        if guess == number:\n",
    "            run = False\n",
    "            print(f\"Good job, {name}! You guessed my number in {sum} guesses!\")\n",
    "            break\n",
    "        if guess>number:\n",
    "            print(\"Your guess is too high.\")\n",
    "        else:\n",
    "            print(\"Your guess is too low\")\n",
    "\n",
    "\n",
    "guessanumber()\n",
    "def randomator(start, end, length):\n",
    "    arr=[randint(start, end)for i in range(length)]\n",
    "    print(arr)\n",
    "randomator(1,10,10)"
   ]
  },
  {
   "cell_type": "code",
   "execution_count": null,
   "id": "c0cf8750-2e1f-472c-9526-74b355433d9b",
   "metadata": {},
   "outputs": [],
   "source": []
  }
 ],
 "metadata": {
  "kernelspec": {
   "display_name": "Python [conda env:base] *",
   "language": "python",
   "name": "conda-base-py"
  },
  "language_info": {
   "codemirror_mode": {
    "name": "ipython",
    "version": 3
   },
   "file_extension": ".py",
   "mimetype": "text/x-python",
   "name": "python",
   "nbconvert_exporter": "python",
   "pygments_lexer": "ipython3",
   "version": "3.12.7"
  }
 },
 "nbformat": 4,
 "nbformat_minor": 5
}

{
 "cells": [
  {
   "cell_type": "code",
   "execution_count": 9,
   "id": "edeb2e2b-b01e-4d7e-adc2-00444463e880",
   "metadata": {},
   "outputs": [
    {
     "name": "stdin",
     "output_type": "stream",
     "text": [
      "n: 34\n"
     ]
    },
    {
     "name": "stdout",
     "output_type": "stream",
     "text": [
      "[0, 12, 24]\n"
     ]
    }
   ],
   "source": [
    "def d34(n):\n",
    "    result=[]\n",
    "    for i in range(n):\n",
    "        if i%3==0 and i%4==0:\n",
    "            result.append(i)\n",
    "    return result\n",
    "\n",
    "n=int(input(\"n:\"))\n",
    "k=d34(n)\n",
    "print(k)"
   ]
  }
 ],
 "metadata": {
  "kernelspec": {
   "display_name": "Python [conda env:base] *",
   "language": "python",
   "name": "conda-base-py"
  },
  "language_info": {
   "codemirror_mode": {
    "name": "ipython",
    "version": 3
   },
   "file_extension": ".py",
   "mimetype": "text/x-python",
   "name": "python",
   "nbconvert_exporter": "python",
   "pygments_lexer": "ipython3",
   "version": "3.12.7"
  }
 },
 "nbformat": 4,
 "nbformat_minor": 5
}

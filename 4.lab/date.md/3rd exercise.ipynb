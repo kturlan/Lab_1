{
 "cells": [
  {
   "cell_type": "code",
   "execution_count": 5,
   "id": "9d7b6620-7c9c-4f74-83d5-b73b7f21a41c",
   "metadata": {},
   "outputs": [
    {
     "name": "stdout",
     "output_type": "stream",
     "text": [
      "2025-02-18, 21:03:07\n"
     ]
    }
   ],
   "source": [
    "from datetime import date,timedelta,datetime\n",
    "time = datetime.now()\n",
    "withoutmiliseconds = time.strftime(\"%Y-%m-%d, %H:%M:%S\")\n",
    "print(withoutmiliseconds)"
   ]
  },
  {
   "cell_type": "code",
   "execution_count": null,
   "id": "34cc13a7-a8a0-4e44-ba02-ee8ab9ea6707",
   "metadata": {},
   "outputs": [],
   "source": []
  }
 ],
 "metadata": {
  "kernelspec": {
   "display_name": "Python [conda env:base] *",
   "language": "python",
   "name": "conda-base-py"
  },
  "language_info": {
   "codemirror_mode": {
    "name": "ipython",
    "version": 3
   },
   "file_extension": ".py",
   "mimetype": "text/x-python",
   "name": "python",
   "nbconvert_exporter": "python",
   "pygments_lexer": "ipython3",
   "version": "3.12.7"
  }
 },
 "nbformat": 4,
 "nbformat_minor": 5
}

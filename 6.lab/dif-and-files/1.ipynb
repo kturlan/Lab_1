{
 "cells": [
  {
   "cell_type": "code",
   "execution_count": null,
   "id": "3a48c1f6-45b9-4f48-a3be-115c2d66a38a",
   "metadata": {},
   "outputs": [],
   "source": [
    "import os\n",
    "\n",
    "path= r\"/Users/bekzatshaiyrgozha/Documents\"\n",
    "all=list(os.listdir(path))\n",
    "print(all)"
   ]
  }
 ],
 "metadata": {
  "kernelspec": {
   "display_name": "Python [conda env:base] *",
   "language": "python",
   "name": "conda-base-py"
  },
  "language_info": {
   "codemirror_mode": {
    "name": "ipython",
    "version": 3
   },
   "file_extension": ".py",
   "mimetype": "text/x-python",
   "name": "python",
   "nbconvert_exporter": "python",
   "pygments_lexer": "ipython3",
   "version": "3.12.7"
  }
 },
 "nbformat": 4,
 "nbformat_minor": 5
}

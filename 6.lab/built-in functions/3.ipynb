{
 "cells": [
  {
   "cell_type": "code",
   "execution_count": null,
   "id": "851f40e6-f733-4840-a9cf-ffdd79299b3c",
   "metadata": {},
   "outputs": [],
   "source": [
    "def is_palindrome(s):\n",
    "    return s == ''.join(reversed(s)) \n",
    "\n",
    "sentence = input(\"Enter sentence: \")\n",
    "print(is_palindrome(sentence))"
   ]
  }
 ],
 "metadata": {
  "kernelspec": {
   "display_name": "Python [conda env:base] *",
   "language": "python",
   "name": "conda-base-py"
  },
  "language_info": {
   "codemirror_mode": {
    "name": "ipython",
    "version": 3
   },
   "file_extension": ".py",
   "mimetype": "text/x-python",
   "name": "python",
   "nbconvert_exporter": "python",
   "pygments_lexer": "ipython3",
   "version": "3.12.7"
  }
 },
 "nbformat": 4,
 "nbformat_minor": 5
}

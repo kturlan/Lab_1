{
 "cells": [
  {
   "cell_type": "code",
   "execution_count": 3,
   "id": "00a8e2e5-8ae2-464e-9b1b-f32d3024be89",
   "metadata": {},
   "outputs": [
    {
     "name": "stdin",
     "output_type": "stream",
     "text": [
      "Sentence: khallimmursalim\n"
     ]
    },
    {
     "name": "stdout",
     "output_type": "stream",
     "text": [
      "With upper case:KHALLIMMURSALIM\n"
     ]
    }
   ],
   "source": [
    "class String:\n",
    "    def getstring(self):\n",
    "        self.sentence=input(\"Sentence:\")\n",
    "    def printstring(self):\n",
    "        print(\"With upper case:\"+self.sentence.upper())\n",
    "        \n",
    "mystring=String()\n",
    "mystring.getstring()\n",
    "mystring.printstring()"
   ]
  },
  {
   "cell_type": "code",
   "execution_count": 13,
   "id": "713d4127-697c-4635-961f-0de0565bd4a5",
   "metadata": {},
   "outputs": [
    {
     "name": "stdin",
     "output_type": "stream",
     "text": [
      " 7\n"
     ]
    },
    {
     "name": "stdout",
     "output_type": "stream",
     "text": [
      "49.0\n",
      "0\n"
     ]
    }
   ],
   "source": [
    "class Shape():\n",
    "    def area(self):\n",
    "        return 0\n",
    "class Square(Shape):\n",
    "    def __init__(self,length):\n",
    "        self.length=length\n",
    "    def area(self):\n",
    "        return self.length ** 2\n",
    "a = float(input())\n",
    "mysquare=Square(a)\n",
    "print(mysquare.area())\n",
    "myshape=Shape()\n",
    "print(myshape.area())"
   ]
  },
  {
   "cell_type": "code",
   "execution_count": 15,
   "id": "fff5aa1f-613e-4d74-b2de-4b1d958d22df",
   "metadata": {},
   "outputs": [
    {
     "name": "stdin",
     "output_type": "stream",
     "text": [
      "Length:  45\n",
      "Width:  34\n"
     ]
    },
    {
     "name": "stdout",
     "output_type": "stream",
     "text": [
      "Area of the rectangle: 1530.0\n"
     ]
    }
   ],
   "source": [
    "class Shape:\n",
    "    def area(self):\n",
    "        return 0\n",
    "class Rectangle():\n",
    "    def __init__(self, length, width):\n",
    "        self.length = length\n",
    "        self.width = width\n",
    "    def area(self):\n",
    "        return self.length * self.width\n",
    "length = float(input(\"Length: \"))\n",
    "width = float(input(\"Width: \"))\n",
    "audan=Rectangle(length,width)\n",
    "print(\"Area of the rectangle:\",audan.area())"
   ]
  },
  {
   "cell_type": "code",
   "execution_count": 17,
   "id": "d72b64db-cfa2-448b-8534-a9f36e92f870",
   "metadata": {},
   "outputs": [
    {
     "name": "stdin",
     "output_type": "stream",
     "text": [
      "x: 45\n",
      "y: 34\n"
     ]
    },
    {
     "name": "stdout",
     "output_type": "stream",
     "text": [
      "Coordinates: (45.0, 34.0)\n"
     ]
    },
    {
     "name": "stdin",
     "output_type": "stream",
     "text": [
      "x1: 23\n",
      "y1: 24\n"
     ]
    },
    {
     "name": "stdout",
     "output_type": "stream",
     "text": [
      "Coordinates: (23.0, 24.0)\n",
      "Distance between point1 and point2: 24.166091947189145\n"
     ]
    }
   ],
   "source": [
    "import math\n",
    "\n",
    "class Point:\n",
    "    def __init__(self,x,y):\n",
    "        self.x = x\n",
    "        self.y = y\n",
    "\n",
    "    def show(self):\n",
    "        print(f\"Coordinates: ({self.x}, {self.y})\")\n",
    "\n",
    "    def move(self, x1, y1):\n",
    "        self.x = x1\n",
    "        self.y = y1\n",
    "\n",
    "    def dist(self, point2):\n",
    "        dx = self.x - point2.x\n",
    "        dy = self.y - point2.y\n",
    "        distance = math.sqrt(dx**2 + dy**2)\n",
    "        return distance\n",
    "a=float(input(\"x:\"))\n",
    "b=float(input(\"y:\"))\n",
    "point1 = Point(a,b)\n",
    "point2 = Point(a,b)\n",
    "\n",
    "point1.show() \n",
    "k=float(input(\"x1:\"))\n",
    "p=float(input(\"y1:\"))\n",
    "point1.move(k,p)\n",
    "point1.show() \n",
    "\n",
    "distance = point1.dist(point2)\n",
    "print(f\"Distance between point1 and point2: {distance}\")"
   ]
  },
  {
   "cell_type": "code",
   "execution_count": 21,
   "id": "c10ece06-6fdf-4124-a441-8ad7d477e7bf",
   "metadata": {},
   "outputs": [
    {
     "name": "stdout",
     "output_type": "stream",
     "text": [
      "1000\n",
      "Mursalim\n",
      "You are deposit 1000 money\n",
      "insufficient funds\n",
      "you're balance: 0,  and you take 2000\n"
     ]
    }
   ],
   "source": [
    "class Bank():\n",
    "    def __init__(self, account, money):\n",
    "        self.money = money\n",
    "        self.account = account\n",
    "\n",
    "    def balance(self):\n",
    "        return self.money\n",
    "    \n",
    "    def owner(self):\n",
    "        return self.account\n",
    "    \n",
    "    def deposit(self, money):\n",
    "        self.money+=money\n",
    "\n",
    "        return f\"You are deposit {money} money\"\n",
    "    \n",
    "    def withdraw(self, money):\n",
    "        if self.money - money < 0:\n",
    "            return \"insufficient funds\"\n",
    "        else:\n",
    "            self.money-=money\n",
    "\n",
    "            return f\"you're balance: {self.money},  and you take {money}\"\n",
    "        \n",
    "        \n",
    "bank = Bank(\"Mursalim\", 1000)\n",
    "\n",
    "print(bank.balance())\n",
    "\n",
    "print(bank.owner())\n",
    "\n",
    "print(bank.deposit(1000))\n",
    "\n",
    "print(bank.withdraw(3000))\n",
    "\n",
    "print(bank.withdraw(2000))"
   ]
  },
  {
   "cell_type": "code",
   "execution_count": 23,
   "id": "2a272ea4-24d5-49d3-8c90-ff449bf67e2b",
   "metadata": {},
   "outputs": [
    {
     "name": "stdin",
     "output_type": "stream",
     "text": [
      "n:  5\n",
      "number:  4\n",
      "number:  5\n",
      "number:  7\n",
      "number:  3\n",
      "number:  6\n"
     ]
    },
    {
     "name": "stdout",
     "output_type": "stream",
     "text": [
      "[5, 7, 3]\n"
     ]
    }
   ],
   "source": [
    "class Prime:\n",
    "    def __init__(self, numbers):\n",
    "        self.numbers = numbers\n",
    "\n",
    "    def is_prime(self, num):\n",
    "        if num < 2:\n",
    "            return False\n",
    "        for i in range(2, int(num**0.5) + 1):\n",
    "            if num % i == 0:\n",
    "                return False\n",
    "        return True\n",
    "\n",
    "    def filter_prime_numbers(self):\n",
    "        return list(filter(lambda x: self.is_prime(x), self.numbers))\n",
    "\n",
    "n = int(input(\"n: \"))\n",
    "mylist = []\n",
    "for i in range(n):\n",
    "    number = int(input(\"number: \"))\n",
    "    mylist.append(number)\n",
    "\n",
    "prime_filter = Prime(mylist)\n",
    "print(prime_filter.filter_prime_numbers())"
   ]
  }
 ],
 "metadata": {
  "kernelspec": {
   "display_name": "Python [conda env:base] *",
   "language": "python",
   "name": "conda-base-py"
  },
  "language_info": {
   "codemirror_mode": {
    "name": "ipython",
    "version": 3
   },
   "file_extension": ".py",
   "mimetype": "text/x-python",
   "name": "python",
   "nbconvert_exporter": "python",
   "pygments_lexer": "ipython3",
   "version": "3.12.7"
  }
 },
 "nbformat": 4,
 "nbformat_minor": 5
}

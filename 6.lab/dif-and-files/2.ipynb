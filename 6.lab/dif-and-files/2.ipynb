{
 "cells": [
  {
   "cell_type": "code",
   "execution_count": 3,
   "id": "80549ed0-826b-4a86-8a5c-95ab0462d1a2",
   "metadata": {},
   "outputs": [
    {
     "name": "stdout",
     "output_type": "stream",
     "text": [
      "path doesn't exist\n"
     ]
    }
   ],
   "source": [
    "import os\n",
    "def check_access(path):\n",
    "    if not os.path.exists(path):\n",
    "        print(\"path doesn't exist\")\n",
    "        return \n",
    "    else:\n",
    "        print('path does exist')\n",
    "        if os.access(path, os.R_OK):\n",
    "            print(\"readable\")\n",
    "        else:\n",
    "            print(\"don't readable\")\n",
    "        if os.access(path, os.W_OK):\n",
    "            print(\"writable\")\n",
    "        else:\n",
    "            print(\"don't writable\")\n",
    "        if os.access(path, os.X_OK):\n",
    "            print(\"executable\")\n",
    "        else:\n",
    "            print(\"don't executable\")\n",
    "\n",
    "if __name__ == \"__main__\":\n",
    "    path_to_check = r\"C:/Users/Documents\"\n",
    "    \n",
    "check_access(path_to_check)"
   ]
  },
  {
   "cell_type": "code",
   "execution_count": null,
   "id": "a793fe09-73d8-4435-8c14-9c561bfdbd3e",
   "metadata": {},
   "outputs": [],
   "source": []
  }
 ],
 "metadata": {
  "kernelspec": {
   "display_name": "Python [conda env:base] *",
   "language": "python",
   "name": "conda-base-py"
  },
  "language_info": {
   "codemirror_mode": {
    "name": "ipython",
    "version": 3
   },
   "file_extension": ".py",
   "mimetype": "text/x-python",
   "name": "python",
   "nbconvert_exporter": "python",
   "pygments_lexer": "ipython3",
   "version": "3.12.7"
  }
 },
 "nbformat": 4,
 "nbformat_minor": 5
}

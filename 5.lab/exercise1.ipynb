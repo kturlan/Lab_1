{
 "cells": [
  {
   "cell_type": "code",
   "execution_count": 17,
   "id": "232a2192-9772-4f4e-935c-3855abdbd8e7",
   "metadata": {},
   "outputs": [
    {
     "name": "stdout",
     "output_type": "stream",
     "text": [
      "['abb', 'abbb', 'ab', 'ab']\n"
     ]
    }
   ],
   "source": [
    "import re \n",
    "\n",
    "\n",
    "with open(\"row-1.txt\") as f:\n",
    "    data = f.read()\n",
    "\n",
    "matches = re.findall(\"a.*b\", data)\n",
    "print(matches)"
   ]
  },
  {
   "cell_type": "code",
   "execution_count": null,
   "id": "1a3080e1-22bd-4450-9240-b9a52314d786",
   "metadata": {},
   "outputs": [],
   "source": []
  }
 ],
 "metadata": {
  "kernelspec": {
   "display_name": "Python [conda env:base] *",
   "language": "python",
   "name": "conda-base-py"
  },
  "language_info": {
   "codemirror_mode": {
    "name": "ipython",
    "version": 3
   },
   "file_extension": ".py",
   "mimetype": "text/x-python",
   "name": "python",
   "nbconvert_exporter": "python",
   "pygments_lexer": "ipython3",
   "version": "3.12.7"
  }
 },
 "nbformat": 4,
 "nbformat_minor": 5
}

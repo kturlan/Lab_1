{
 "cells": [
  {
   "cell_type": "code",
   "execution_count": 1,
   "id": "b755c2ba-ce98-48f0-b8db-669a3f0e097b",
   "metadata": {},
   "outputs": [
    {
     "name": "stdout",
     "output_type": "stream",
     "text": [
      "abbbc , a , abb, ab, bababa\n",
      "\n",
      "abaabababbaba, abadddb ad d ssajmsam,sm,asm,ams,masmams,ams,msmsa aa\n",
      "\n",
      "basbsjdfe\n",
      "hgedgwgAhedb\n",
      "abaabababbabaABcdcbdb\n",
      "ABCDEFGHabcdedfgh\n",
      "BCAajajjajaaA\n",
      "abbb \n",
      "abbccbcbc \n",
      "aaabcbcbcabb \n",
      "aabb\n",
      "AlmatyILoveYou\n",
      "b\n"
     ]
    }
   ],
   "source": [
    "import re \n",
    "\n",
    "\n",
    "with open(\"row-1.txt\") as f:\n",
    "    data = f.read()\n",
    "\n",
    "matches=re.sub(r\"_\",'',data)\n",
    "print(matches)"
   ]
  },
  {
   "cell_type": "code",
   "execution_count": null,
   "id": "63d541b3-f634-4698-a0d0-a095c5f48990",
   "metadata": {},
   "outputs": [],
   "source": []
  }
 ],
 "metadata": {
  "kernelspec": {
   "display_name": "Python [conda env:base] *",
   "language": "python",
   "name": "conda-base-py"
  },
  "language_info": {
   "codemirror_mode": {
    "name": "ipython",
    "version": 3
   },
   "file_extension": ".py",
   "mimetype": "text/x-python",
   "name": "python",
   "nbconvert_exporter": "python",
   "pygments_lexer": "ipython3",
   "version": "3.12.7"
  }
 },
 "nbformat": 4,
 "nbformat_minor": 5
}

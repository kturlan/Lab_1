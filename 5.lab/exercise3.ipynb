{
 "cells": [
  {
   "cell_type": "code",
   "execution_count": 3,
   "id": "388e01da-4f84-4536-aeae-a6a362dacebe",
   "metadata": {},
   "outputs": [
    {
     "name": "stdout",
     "output_type": "stream",
     "text": [
      "['b_aabababbaba', 'b__adddb', 'a_a', 's____jdfe', 'b_aabababbaba']\n"
     ]
    }
   ],
   "source": [
    "import re \n",
    "\n",
    "\n",
    "with open(\"row-1.txt\") as f:\n",
    "    data = f.read()\n",
    "\n",
    "matches = re.findall(\"[a-z]_+[a-z]+\", data)\n",
    "print(matches)"
   ]
  }
 ],
 "metadata": {
  "kernelspec": {
   "display_name": "Python [conda env:base] *",
   "language": "python",
   "name": "conda-base-py"
  },
  "language_info": {
   "codemirror_mode": {
    "name": "ipython",
    "version": 3
   },
   "file_extension": ".py",
   "mimetype": "text/x-python",
   "name": "python",
   "nbconvert_exporter": "python",
   "pygments_lexer": "ipython3",
   "version": "3.12.7"
  }
 },
 "nbformat": 4,
 "nbformat_minor": 5
}
